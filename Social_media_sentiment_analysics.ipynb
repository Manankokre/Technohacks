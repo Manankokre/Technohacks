{
 "cells": [
  {
   "cell_type": "code",
   "execution_count": 1,
   "id": "06ac2b6e",
   "metadata": {},
   "outputs": [],
   "source": [
    "import re\n",
    "import numpy as np\n",
    "import pandas as pd\n",
    "# plotting\n",
    "import seaborn as sns\n",
    "import matplotlib.pyplot as plt\n",
    "# nltk\n",
    "from nltk.stem import WordNetLemmatizer\n",
    "# sklearn\n",
    "from sklearn.svm import LinearSVC\n",
    "from sklearn.naive_bayes import BernoulliNB\n",
    "from sklearn.linear_model import LogisticRegression\n",
    "from sklearn.model_selection import train_test_split\n",
    "from sklearn.feature_extraction.text import TfidfVectorizer\n",
    "from sklearn.metrics import confusion_matrix, classification_report"
   ]
  },
  {
   "cell_type": "code",
   "execution_count": 3,
   "id": "fa443d8a",
   "metadata": {},
   "outputs": [
    {
     "data": {
      "text/html": [
       "<div>\n",
       "<style scoped>\n",
       "    .dataframe tbody tr th:only-of-type {\n",
       "        vertical-align: middle;\n",
       "    }\n",
       "\n",
       "    .dataframe tbody tr th {\n",
       "        vertical-align: top;\n",
       "    }\n",
       "\n",
       "    .dataframe thead th {\n",
       "        text-align: right;\n",
       "    }\n",
       "</style>\n",
       "<table border=\"1\" class=\"dataframe\">\n",
       "  <thead>\n",
       "    <tr style=\"text-align: right;\">\n",
       "      <th></th>\n",
       "      <th></th>\n",
       "      <th></th>\n",
       "      <th></th>\n",
       "      <th></th>\n",
       "      <th></th>\n",
       "      <th></th>\n",
       "      <th></th>\n",
       "      <th></th>\n",
       "      <th>target</th>\n",
       "      <th>ids</th>\n",
       "      <th>date</th>\n",
       "      <th>flag</th>\n",
       "      <th>user</th>\n",
       "      <th>text</th>\n",
       "    </tr>\n",
       "  </thead>\n",
       "  <tbody>\n",
       "    <tr>\n",
       "      <th>569724822177095680</th>\n",
       "      <th>negative</th>\n",
       "      <th>1.0</th>\n",
       "      <th>Customer Service Issue</th>\n",
       "      <th>1.0</th>\n",
       "      <th>United</th>\n",
       "      <th>NaN</th>\n",
       "      <th>hart0277</th>\n",
       "      <th>NaN</th>\n",
       "      <td>0</td>\n",
       "      <td>@united you are trying to charge me 150 bucks ...</td>\n",
       "      <td>NaN</td>\n",
       "      <td>2015-02-22 21:05:57 -0800</td>\n",
       "      <td>Chicago</td>\n",
       "      <td>NaN</td>\n",
       "    </tr>\n",
       "    <tr>\n",
       "      <th>569899102198206464</th>\n",
       "      <th>negative</th>\n",
       "      <th>1.0</th>\n",
       "      <th>Bad Flight</th>\n",
       "      <th>0.3621</th>\n",
       "      <th>US Airways</th>\n",
       "      <th>NaN</th>\n",
       "      <th>daknadler</th>\n",
       "      <th>NaN</th>\n",
       "      <td>0</td>\n",
       "      <td>@USAirways : Premier provider of missed connec...</td>\n",
       "      <td>NaN</td>\n",
       "      <td>2015-02-23 08:38:28 -0800</td>\n",
       "      <td>Jacksonville</td>\n",
       "      <td>Eastern Time (US &amp; Canada)</td>\n",
       "    </tr>\n",
       "    <tr>\n",
       "      <th>568917611565592577</th>\n",
       "      <th>negative</th>\n",
       "      <th>1.0</th>\n",
       "      <th>Late Flight</th>\n",
       "      <th>0.6657</th>\n",
       "      <th>United</th>\n",
       "      <th>NaN</th>\n",
       "      <th>archivelle</th>\n",
       "      <th>NaN</th>\n",
       "      <td>1</td>\n",
       "      <td>@united Don't ask me to be patient without off...</td>\n",
       "      <td>NaN</td>\n",
       "      <td>2015-02-20 15:38:23 -0800</td>\n",
       "      <td>New York</td>\n",
       "      <td>NaN</td>\n",
       "    </tr>\n",
       "    <tr>\n",
       "      <th>569591730506371072</th>\n",
       "      <th>neutral</th>\n",
       "      <th>1.0</th>\n",
       "      <th>NaN</th>\n",
       "      <th>NaN</th>\n",
       "      <th>American</th>\n",
       "      <th>NaN</th>\n",
       "      <th>TrueChief77</th>\n",
       "      <th>NaN</th>\n",
       "      <td>0</td>\n",
       "      <td>@AmericanAir guarantee no retribution? If so, ...</td>\n",
       "      <td>NaN</td>\n",
       "      <td>2015-02-22 12:17:05 -0800</td>\n",
       "      <td>970 Colorado</td>\n",
       "      <td>NaN</td>\n",
       "    </tr>\n",
       "    <tr>\n",
       "      <th>569311730540683264</th>\n",
       "      <th>positive</th>\n",
       "      <th>1.0</th>\n",
       "      <th>NaN</th>\n",
       "      <th>NaN</th>\n",
       "      <th>Delta</th>\n",
       "      <th>NaN</th>\n",
       "      <th>dsgersten</th>\n",
       "      <th>NaN</th>\n",
       "      <td>0</td>\n",
       "      <td>@JetBlue thank you for taking care of me with ...</td>\n",
       "      <td>NaN</td>\n",
       "      <td>2015-02-21 17:44:28 -0800</td>\n",
       "      <td>Southern California</td>\n",
       "      <td>Pacific Time (US &amp; Canada)</td>\n",
       "    </tr>\n",
       "  </tbody>\n",
       "</table>\n",
       "</div>"
      ],
      "text/plain": [
       "                                                                                             target  \\\n",
       "569724822177095680 negative 1.0 Customer Service Issue 1.0    United     NaN hart0277    NaN      0   \n",
       "569899102198206464 negative 1.0 Bad Flight             0.3621 US Airways NaN daknadler   NaN      0   \n",
       "568917611565592577 negative 1.0 Late Flight            0.6657 United     NaN archivelle  NaN      1   \n",
       "569591730506371072 neutral  1.0 NaN                    NaN    American   NaN TrueChief77 NaN      0   \n",
       "569311730540683264 positive 1.0 NaN                    NaN    Delta      NaN dsgersten   NaN      0   \n",
       "\n",
       "                                                                                                                                            ids  \\\n",
       "569724822177095680 negative 1.0 Customer Service Issue 1.0    United     NaN hart0277    NaN  @united you are trying to charge me 150 bucks ...   \n",
       "569899102198206464 negative 1.0 Bad Flight             0.3621 US Airways NaN daknadler   NaN  @USAirways : Premier provider of missed connec...   \n",
       "568917611565592577 negative 1.0 Late Flight            0.6657 United     NaN archivelle  NaN  @united Don't ask me to be patient without off...   \n",
       "569591730506371072 neutral  1.0 NaN                    NaN    American   NaN TrueChief77 NaN  @AmericanAir guarantee no retribution? If so, ...   \n",
       "569311730540683264 positive 1.0 NaN                    NaN    Delta      NaN dsgersten   NaN  @JetBlue thank you for taking care of me with ...   \n",
       "\n",
       "                                                                                             date  \\\n",
       "569724822177095680 negative 1.0 Customer Service Issue 1.0    United     NaN hart0277    NaN  NaN   \n",
       "569899102198206464 negative 1.0 Bad Flight             0.3621 US Airways NaN daknadler   NaN  NaN   \n",
       "568917611565592577 negative 1.0 Late Flight            0.6657 United     NaN archivelle  NaN  NaN   \n",
       "569591730506371072 neutral  1.0 NaN                    NaN    American   NaN TrueChief77 NaN  NaN   \n",
       "569311730540683264 positive 1.0 NaN                    NaN    Delta      NaN dsgersten   NaN  NaN   \n",
       "\n",
       "                                                                                                                   flag  \\\n",
       "569724822177095680 negative 1.0 Customer Service Issue 1.0    United     NaN hart0277    NaN  2015-02-22 21:05:57 -0800   \n",
       "569899102198206464 negative 1.0 Bad Flight             0.3621 US Airways NaN daknadler   NaN  2015-02-23 08:38:28 -0800   \n",
       "568917611565592577 negative 1.0 Late Flight            0.6657 United     NaN archivelle  NaN  2015-02-20 15:38:23 -0800   \n",
       "569591730506371072 neutral  1.0 NaN                    NaN    American   NaN TrueChief77 NaN  2015-02-22 12:17:05 -0800   \n",
       "569311730540683264 positive 1.0 NaN                    NaN    Delta      NaN dsgersten   NaN  2015-02-21 17:44:28 -0800   \n",
       "\n",
       "                                                                                                             user  \\\n",
       "569724822177095680 negative 1.0 Customer Service Issue 1.0    United     NaN hart0277    NaN              Chicago   \n",
       "569899102198206464 negative 1.0 Bad Flight             0.3621 US Airways NaN daknadler   NaN         Jacksonville   \n",
       "568917611565592577 negative 1.0 Late Flight            0.6657 United     NaN archivelle  NaN             New York   \n",
       "569591730506371072 neutral  1.0 NaN                    NaN    American   NaN TrueChief77 NaN         970 Colorado   \n",
       "569311730540683264 positive 1.0 NaN                    NaN    Delta      NaN dsgersten   NaN  Southern California   \n",
       "\n",
       "                                                                                                                    text  \n",
       "569724822177095680 negative 1.0 Customer Service Issue 1.0    United     NaN hart0277    NaN                         NaN  \n",
       "569899102198206464 negative 1.0 Bad Flight             0.3621 US Airways NaN daknadler   NaN  Eastern Time (US & Canada)  \n",
       "568917611565592577 negative 1.0 Late Flight            0.6657 United     NaN archivelle  NaN                         NaN  \n",
       "569591730506371072 neutral  1.0 NaN                    NaN    American   NaN TrueChief77 NaN                         NaN  \n",
       "569311730540683264 positive 1.0 NaN                    NaN    Delta      NaN dsgersten   NaN  Pacific Time (US & Canada)  "
      ]
     },
     "execution_count": 3,
     "metadata": {},
     "output_type": "execute_result"
    }
   ],
   "source": [
    "DATASET_COLUMNS=['target','ids','date','flag','user','text']\n",
    "DATASET_ENCODING = \"ISO-8859-1\"\n",
    "df = pd.read_csv(\"C:/Users/Manan Kokre/Downloads/Tweets.csv\", encoding=DATASET_ENCODING, names=DATASET_COLUMNS)\n",
    "df.sample(5)"
   ]
  },
  {
   "cell_type": "code",
   "execution_count": 4,
   "id": "a15cbe52",
   "metadata": {},
   "outputs": [
    {
     "data": {
      "text/html": [
       "<div>\n",
       "<style scoped>\n",
       "    .dataframe tbody tr th:only-of-type {\n",
       "        vertical-align: middle;\n",
       "    }\n",
       "\n",
       "    .dataframe tbody tr th {\n",
       "        vertical-align: top;\n",
       "    }\n",
       "\n",
       "    .dataframe thead th {\n",
       "        text-align: right;\n",
       "    }\n",
       "</style>\n",
       "<table border=\"1\" class=\"dataframe\">\n",
       "  <thead>\n",
       "    <tr style=\"text-align: right;\">\n",
       "      <th></th>\n",
       "      <th></th>\n",
       "      <th></th>\n",
       "      <th></th>\n",
       "      <th></th>\n",
       "      <th></th>\n",
       "      <th></th>\n",
       "      <th></th>\n",
       "      <th></th>\n",
       "      <th>target</th>\n",
       "      <th>ids</th>\n",
       "      <th>date</th>\n",
       "      <th>flag</th>\n",
       "      <th>user</th>\n",
       "      <th>text</th>\n",
       "    </tr>\n",
       "  </thead>\n",
       "  <tbody>\n",
       "    <tr>\n",
       "      <th>tweet_id</th>\n",
       "      <th>airline_sentiment</th>\n",
       "      <th>airline_sentiment_confidence</th>\n",
       "      <th>negativereason</th>\n",
       "      <th>negativereason_confidence</th>\n",
       "      <th>airline</th>\n",
       "      <th>airline_sentiment_gold</th>\n",
       "      <th>name</th>\n",
       "      <th>negativereason_gold</th>\n",
       "      <td>retweet_count</td>\n",
       "      <td>text</td>\n",
       "      <td>tweet_coord</td>\n",
       "      <td>tweet_created</td>\n",
       "      <td>tweet_location</td>\n",
       "      <td>user_timezone</td>\n",
       "    </tr>\n",
       "    <tr>\n",
       "      <th>570306133677760513</th>\n",
       "      <th>neutral</th>\n",
       "      <th>1.0</th>\n",
       "      <th>NaN</th>\n",
       "      <th>NaN</th>\n",
       "      <th>Virgin America</th>\n",
       "      <th>NaN</th>\n",
       "      <th>cairdin</th>\n",
       "      <th>NaN</th>\n",
       "      <td>0</td>\n",
       "      <td>@VirginAmerica What @dhepburn said.</td>\n",
       "      <td>NaN</td>\n",
       "      <td>2015-02-24 11:35:52 -0800</td>\n",
       "      <td>NaN</td>\n",
       "      <td>Eastern Time (US &amp; Canada)</td>\n",
       "    </tr>\n",
       "    <tr>\n",
       "      <th>570301130888122368</th>\n",
       "      <th>positive</th>\n",
       "      <th>0.3486</th>\n",
       "      <th>NaN</th>\n",
       "      <th>0.0</th>\n",
       "      <th>Virgin America</th>\n",
       "      <th>NaN</th>\n",
       "      <th>jnardino</th>\n",
       "      <th>NaN</th>\n",
       "      <td>0</td>\n",
       "      <td>@VirginAmerica plus you've added commercials t...</td>\n",
       "      <td>NaN</td>\n",
       "      <td>2015-02-24 11:15:59 -0800</td>\n",
       "      <td>NaN</td>\n",
       "      <td>Pacific Time (US &amp; Canada)</td>\n",
       "    </tr>\n",
       "    <tr>\n",
       "      <th>570301083672813571</th>\n",
       "      <th>neutral</th>\n",
       "      <th>0.6837</th>\n",
       "      <th>NaN</th>\n",
       "      <th>NaN</th>\n",
       "      <th>Virgin America</th>\n",
       "      <th>NaN</th>\n",
       "      <th>yvonnalynn</th>\n",
       "      <th>NaN</th>\n",
       "      <td>0</td>\n",
       "      <td>@VirginAmerica I didn't today... Must mean I n...</td>\n",
       "      <td>NaN</td>\n",
       "      <td>2015-02-24 11:15:48 -0800</td>\n",
       "      <td>Lets Play</td>\n",
       "      <td>Central Time (US &amp; Canada)</td>\n",
       "    </tr>\n",
       "    <tr>\n",
       "      <th>570301031407624196</th>\n",
       "      <th>negative</th>\n",
       "      <th>1.0</th>\n",
       "      <th>Bad Flight</th>\n",
       "      <th>0.7033</th>\n",
       "      <th>Virgin America</th>\n",
       "      <th>NaN</th>\n",
       "      <th>jnardino</th>\n",
       "      <th>NaN</th>\n",
       "      <td>0</td>\n",
       "      <td>@VirginAmerica it's really aggressive to blast...</td>\n",
       "      <td>NaN</td>\n",
       "      <td>2015-02-24 11:15:36 -0800</td>\n",
       "      <td>NaN</td>\n",
       "      <td>Pacific Time (US &amp; Canada)</td>\n",
       "    </tr>\n",
       "  </tbody>\n",
       "</table>\n",
       "</div>"
      ],
      "text/plain": [
       "                                                                                                                                                                                        target  \\\n",
       "tweet_id           airline_sentiment airline_sentiment_confidence negativereason negativereason_confidence airline        airline_sentiment_gold name       negativereason_gold  retweet_count   \n",
       "570306133677760513 neutral           1.0                          NaN            NaN                       Virgin America NaN                    cairdin    NaN                              0   \n",
       "570301130888122368 positive          0.3486                       NaN            0.0                       Virgin America NaN                    jnardino   NaN                              0   \n",
       "570301083672813571 neutral           0.6837                       NaN            NaN                       Virgin America NaN                    yvonnalynn NaN                              0   \n",
       "570301031407624196 negative          1.0                          Bad Flight     0.7033                    Virgin America NaN                    jnardino   NaN                              0   \n",
       "\n",
       "                                                                                                                                                                                                                               ids  \\\n",
       "tweet_id           airline_sentiment airline_sentiment_confidence negativereason negativereason_confidence airline        airline_sentiment_gold name       negativereason_gold                                               text   \n",
       "570306133677760513 neutral           1.0                          NaN            NaN                       Virgin America NaN                    cairdin    NaN                                @VirginAmerica What @dhepburn said.   \n",
       "570301130888122368 positive          0.3486                       NaN            0.0                       Virgin America NaN                    jnardino   NaN                  @VirginAmerica plus you've added commercials t...   \n",
       "570301083672813571 neutral           0.6837                       NaN            NaN                       Virgin America NaN                    yvonnalynn NaN                  @VirginAmerica I didn't today... Must mean I n...   \n",
       "570301031407624196 negative          1.0                          Bad Flight     0.7033                    Virgin America NaN                    jnardino   NaN                  @VirginAmerica it's really aggressive to blast...   \n",
       "\n",
       "                                                                                                                                                                                        date  \\\n",
       "tweet_id           airline_sentiment airline_sentiment_confidence negativereason negativereason_confidence airline        airline_sentiment_gold name       negativereason_gold  tweet_coord   \n",
       "570306133677760513 neutral           1.0                          NaN            NaN                       Virgin America NaN                    cairdin    NaN                          NaN   \n",
       "570301130888122368 positive          0.3486                       NaN            0.0                       Virgin America NaN                    jnardino   NaN                          NaN   \n",
       "570301083672813571 neutral           0.6837                       NaN            NaN                       Virgin America NaN                    yvonnalynn NaN                          NaN   \n",
       "570301031407624196 negative          1.0                          Bad Flight     0.7033                    Virgin America NaN                    jnardino   NaN                          NaN   \n",
       "\n",
       "                                                                                                                                                                                                      flag  \\\n",
       "tweet_id           airline_sentiment airline_sentiment_confidence negativereason negativereason_confidence airline        airline_sentiment_gold name       negativereason_gold              tweet_created   \n",
       "570306133677760513 neutral           1.0                          NaN            NaN                       Virgin America NaN                    cairdin    NaN                  2015-02-24 11:35:52 -0800   \n",
       "570301130888122368 positive          0.3486                       NaN            0.0                       Virgin America NaN                    jnardino   NaN                  2015-02-24 11:15:59 -0800   \n",
       "570301083672813571 neutral           0.6837                       NaN            NaN                       Virgin America NaN                    yvonnalynn NaN                  2015-02-24 11:15:48 -0800   \n",
       "570301031407624196 negative          1.0                          Bad Flight     0.7033                    Virgin America NaN                    jnardino   NaN                  2015-02-24 11:15:36 -0800   \n",
       "\n",
       "                                                                                                                                                                                           user  \\\n",
       "tweet_id           airline_sentiment airline_sentiment_confidence negativereason negativereason_confidence airline        airline_sentiment_gold name       negativereason_gold  tweet_location   \n",
       "570306133677760513 neutral           1.0                          NaN            NaN                       Virgin America NaN                    cairdin    NaN                             NaN   \n",
       "570301130888122368 positive          0.3486                       NaN            0.0                       Virgin America NaN                    jnardino   NaN                             NaN   \n",
       "570301083672813571 neutral           0.6837                       NaN            NaN                       Virgin America NaN                    yvonnalynn NaN                       Lets Play   \n",
       "570301031407624196 negative          1.0                          Bad Flight     0.7033                    Virgin America NaN                    jnardino   NaN                             NaN   \n",
       "\n",
       "                                                                                                                                                                                                       text  \n",
       "tweet_id           airline_sentiment airline_sentiment_confidence negativereason negativereason_confidence airline        airline_sentiment_gold name       negativereason_gold               user_timezone  \n",
       "570306133677760513 neutral           1.0                          NaN            NaN                       Virgin America NaN                    cairdin    NaN                  Eastern Time (US & Canada)  \n",
       "570301130888122368 positive          0.3486                       NaN            0.0                       Virgin America NaN                    jnardino   NaN                  Pacific Time (US & Canada)  \n",
       "570301083672813571 neutral           0.6837                       NaN            NaN                       Virgin America NaN                    yvonnalynn NaN                  Central Time (US & Canada)  \n",
       "570301031407624196 negative          1.0                          Bad Flight     0.7033                    Virgin America NaN                    jnardino   NaN                  Pacific Time (US & Canada)  "
      ]
     },
     "execution_count": 4,
     "metadata": {},
     "output_type": "execute_result"
    }
   ],
   "source": [
    "df.head()"
   ]
  },
  {
   "cell_type": "code",
   "execution_count": 5,
   "id": "dec87e69",
   "metadata": {},
   "outputs": [
    {
     "data": {
      "text/plain": [
       "Index(['target', 'ids', 'date', 'flag', 'user', 'text'], dtype='object')"
      ]
     },
     "execution_count": 5,
     "metadata": {},
     "output_type": "execute_result"
    }
   ],
   "source": [
    "df.columns"
   ]
  },
  {
   "cell_type": "code",
   "execution_count": 9,
   "id": "be1e5ecd",
   "metadata": {},
   "outputs": [
    {
     "name": "stdout",
     "output_type": "stream",
     "text": [
      "length of data is 14641\n"
     ]
    }
   ],
   "source": [
    "print('length of data is', len(df))"
   ]
  },
  {
   "cell_type": "code",
   "execution_count": 10,
   "id": "9667e9ba",
   "metadata": {},
   "outputs": [
    {
     "data": {
      "text/plain": [
       "(14641, 6)"
      ]
     },
     "execution_count": 10,
     "metadata": {},
     "output_type": "execute_result"
    }
   ],
   "source": [
    "df. shape"
   ]
  },
  {
   "cell_type": "code",
   "execution_count": 11,
   "id": "a2952e6e",
   "metadata": {},
   "outputs": [
    {
     "name": "stdout",
     "output_type": "stream",
     "text": [
      "<class 'pandas.core.frame.DataFrame'>\n",
      "MultiIndex: 14641 entries, ('tweet_id', 'airline_sentiment', 'airline_sentiment_confidence', 'negativereason', 'negativereason_confidence', 'airline', 'airline_sentiment_gold', 'name', 'negativereason_gold') to ('569587140490866689', 'neutral', '0.6771', nan, '0.0', 'American', nan, 'daviddtwu', nan)\n",
      "Data columns (total 6 columns):\n",
      " #   Column  Non-Null Count  Dtype \n",
      "---  ------  --------------  ----- \n",
      " 0   target  14641 non-null  object\n",
      " 1   ids     14641 non-null  object\n",
      " 2   date    1020 non-null   object\n",
      " 3   flag    14641 non-null  object\n",
      " 4   user    9908 non-null   object\n",
      " 5   text    9821 non-null   object\n",
      "dtypes: object(6)\n",
      "memory usage: 1.9+ MB\n"
     ]
    }
   ],
   "source": [
    "df.info()"
   ]
  },
  {
   "cell_type": "code",
   "execution_count": 12,
   "id": "56650157",
   "metadata": {},
   "outputs": [
    {
     "data": {
      "text/plain": [
       "target    object\n",
       "ids       object\n",
       "date      object\n",
       "flag      object\n",
       "user      object\n",
       "text      object\n",
       "dtype: object"
      ]
     },
     "execution_count": 12,
     "metadata": {},
     "output_type": "execute_result"
    }
   ],
   "source": [
    "df.dtypes"
   ]
  },
  {
   "cell_type": "code",
   "execution_count": 13,
   "id": "95bad975",
   "metadata": {},
   "outputs": [
    {
     "data": {
      "text/plain": [
       "13959"
      ]
     },
     "execution_count": 13,
     "metadata": {},
     "output_type": "execute_result"
    }
   ],
   "source": [
    "np.sum(df.isnull().any(axis=1))"
   ]
  },
  {
   "cell_type": "code",
   "execution_count": 14,
   "id": "db1d10bf",
   "metadata": {},
   "outputs": [
    {
     "name": "stdout",
     "output_type": "stream",
     "text": [
      "Count of columns in the data is:   6\n",
      "Count of rows in the data is:   14641\n"
     ]
    }
   ],
   "source": [
    "print('Count of columns in the data is:  ', len(df.columns))\n",
    "print('Count of rows in the data is:  ', len(df))"
   ]
  },
  {
   "cell_type": "code",
   "execution_count": 15,
   "id": "4387e15d",
   "metadata": {},
   "outputs": [
    {
     "data": {
      "text/plain": [
       "array(['retweet_count', '0', '1', '2', '3', '4', '5', '7', '22', '6',\n",
       "       '18', '15', '31', '11', '8', '9', '28', '32', '44'], dtype=object)"
      ]
     },
     "execution_count": 15,
     "metadata": {},
     "output_type": "execute_result"
    }
   ],
   "source": [
    "df['target'].unique()"
   ]
  },
  {
   "cell_type": "code",
   "execution_count": 16,
   "id": "0ffeefe4",
   "metadata": {},
   "outputs": [
    {
     "data": {
      "text/plain": [
       "19"
      ]
     },
     "execution_count": 16,
     "metadata": {},
     "output_type": "execute_result"
    }
   ],
   "source": [
    "df['target'].nunique()"
   ]
  },
  {
   "cell_type": "code",
   "execution_count": 19,
   "id": "7493e12c",
   "metadata": {},
   "outputs": [
    {
     "data": {
      "text/plain": [
       "<Axes: xlabel='target', ylabel='count'>"
      ]
     },
     "execution_count": 19,
     "metadata": {},
     "output_type": "execute_result"
    },
    {
     "data": {
      "image/png": "[encoded data removed]",
      "text/plain": [
       "<Figure size 640x480 with 1 Axes>"
      ]
     },
     "metadata": {},
     "output_type": "display_data"
    }
   ],
   "source": [
    "import seaborn as sns\n",
    "sns.countplot(x='target', data=df)"
   ]
  }
 ],
 "metadata": {
  "kernelspec": {
   "display_name": "Python 3 (ipykernel)",
   "language": "python",
   "name": "python3"
  },
  "language_info": {
   "codemirror_mode": {
    "name": "ipython",
    "version": 3
   },
   "file_extension": ".py",
   "mimetype": "text/x-python",
   "name": "python",
   "nbconvert_exporter": "python",
   "pygments_lexer": "ipython3",
   "version": "3.11.4"
  }
 },
 "nbformat": 4,
 "nbformat_minor": 5
}
